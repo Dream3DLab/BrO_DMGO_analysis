{
 "cells": [
  {
   "cell_type": "code",
   "execution_count": 2,
   "metadata": {},
   "outputs": [],
   "source": [
    "import os\n",
    "import numpy as np\n",
    "import scanpy as sc\n",
    "from scipy import sparse\n",
    "import pandas as pd"
   ]
  },
  {
   "cell_type": "code",
   "execution_count": 3,
   "metadata": {},
   "outputs": [
    {
     "name": "stdout",
     "output_type": "stream",
     "text": [
      "WARNING: Your filename has more than two extensions: ['.0', '.0_all_layers', '.h5ad'].\n",
      "Only considering the two last: ['.0_all_layers', '.h5ad'].\n",
      "WARNING: Your filename has more than two extensions: ['.0', '.0_all_layers', '.h5ad'].\n",
      "Only considering the two last: ['.0_all_layers', '.h5ad'].\n"
     ]
    },
    {
     "data": {
      "text/plain": [
       "AnnData object with n_obs × n_vars = 1665937 × 33538\n",
       "    obs: 'Age', 'CellClass', 'Region', 'Subdivision', 'Subregion', 'Tissue', 'TopLevelCluster', 'organism_ontology_term_id', 'disease_ontology_term_id', 'self_reported_ethnicity_ontology_term_id', 'assay_ontology_term_id', 'sex_ontology_term_id', 'development_stage_ontology_term_id', 'donor_id', 'suspension_type', 'dissection', 'sample_id', 'cluster_id'\n",
       "    var: 'Chromosome', 'End', 'Gene', 'Start', 'Strand'\n",
       "    uns: 'batch_condition', 'schema_version', 'title'\n",
       "    layers: 'ambiguous', 'spliced', 'unspliced'"
      ]
     },
     "execution_count": 3,
     "metadata": {},
     "output_type": "execute_result"
    }
   ],
   "source": [
    "adata = sc.read(\n",
    "    \"/hpc/pmc_rios/2.personal/rariese/scseq_analysis/BRO/time_course/data/Braun_dev_brain/human_dev_GRCh38-3.0.0_all_layers.h5ad\"\n",
    ")\n",
    "adata"
   ]
  },
  {
   "cell_type": "code",
   "execution_count": 4,
   "metadata": {},
   "outputs": [],
   "source": [
    "adata.obs[\"region_class\"] = (\n",
    "    adata.obs[\"Region\"].astype(str) + \"_\" + adata.obs[\"CellClass\"].astype(str)\n",
    ")\n",
    "adata.obs[\"subregion_class\"] = (\n",
    "    adata.obs[\"Subregion\"].astype(str) + \"_\" + adata.obs[\"CellClass\"].astype(str)\n",
    ")"
   ]
  },
  {
   "cell_type": "code",
   "execution_count": 6,
   "metadata": {},
   "outputs": [],
   "source": [
    "#### Do QC ####\n",
    "sc.pp.filter_cells(adata, min_genes=300)\n",
    "\n",
    "# Run some formatting\n",
    "adata.var[\"Gene\"] = adata.var[\"Gene\"].astype(str)\n",
    "adata.var = adata.var.set_index(\"Gene\", drop=False)\n",
    "adata.var.index.name = None\n",
    "adata.var_names_make_unique()"
   ]
  },
  {
   "cell_type": "code",
   "execution_count": 7,
   "metadata": {},
   "outputs": [],
   "source": [
    "adata.write_h5ad('/hpc/pmc_rios/2.personal/rariese/scseq_analysis/BRO/time_course/data/Braun_dev_brain/braun_2024_fetal_brain_filtered.h5ad')"
   ]
  },
  {
   "cell_type": "code",
   "execution_count": null,
   "metadata": {},
   "outputs": [],
   "source": [
    "atlas = sc.read(\n",
    "    \"/hpc/pmc_rios/2.personal/rariese/scseq_analysis/BRO/time_course/data/HNOCA/hnoca_pre-release_public_subset.h5ad\"\n",
    ")"
   ]
  },
  {
   "cell_type": "code",
   "execution_count": null,
   "metadata": {},
   "outputs": [],
   "source": [
    "common_genes = np.intersect1d(adata.var.index, atlas.var.index)\n",
    "\n",
    "common_idx = np.isin(adata.var.index, common_genes)\n",
    "adata_harm = adata[:, common_idx]"
   ]
  },
  {
   "cell_type": "code",
   "execution_count": null,
   "metadata": {},
   "outputs": [],
   "source": [
    "sc.pp.normalize_total(adata_harm)\n",
    "sc.pp.highly_variable_genes(adata_harm, n_top_genes=2000, batch_key=\"donor_id\")"
   ]
  },
  {
   "cell_type": "code",
   "execution_count": null,
   "metadata": {},
   "outputs": [
    {
     "data": {
      "text/plain": [
       "AnnData object with n_obs × n_vars = 1653974 × 22198\n",
       "    obs: 'CellClass', 'CellCycleFraction', 'DoubletFlag', 'DoubletScore', 'Region', 'Subdivision', 'Subregion', 'Tissue', 'TopLevelCluster', 'TotalUMIs', 'organism_ontology_term_id', 'disease_ontology_term_id', 'self_reported_ethnicity_ontology_term_id', 'assay_ontology_term_id', 'sex_ontology_term_id', 'development_stage_ontology_term_id', 'donor_id', 'suspension_type', 'dissection', 'total_UMIs', 'sample_id', 'cluster_id', 'region_class', 'subregion_class', 'n_genes'\n",
       "    var: 'Chromosome', 'End', 'Gene', 'Start', 'Strand'\n",
       "    uns: 'batch_condition', 'schema_version', 'title'"
      ]
     },
     "execution_count": 12,
     "metadata": {},
     "output_type": "execute_result"
    }
   ],
   "source": [
    "adata_harm"
   ]
  },
  {
   "cell_type": "code",
   "execution_count": null,
   "metadata": {},
   "outputs": [],
   "source": [
    "sc.pp.log1p(adata_harm)\n",
    "sc.pp.highly_variable_genes(adata_harm, n_top_genes=2000, batch_key=\"donor_id\")\n",
    "adata_harm.write(\n",
    "    \"/hpc/pmc_rios/2.personal/rariese/scseq_analysis/BRO/time_course/data/Braun_dev_brain/braun_2022_fetal_brain_v2_common.h5ad\"\n",
    ")\n",
    "adata_harm = adata_harm[:, adata_harm.var.highly_variable].copy()\n",
    "adata_harm.layers[\"counts\"] = sparse.csr_matrix(adata_harm.layers[\"counts\"])\n",
    "adata_harm.write(\n",
    "    \"/hpc/pmc_rios/2.personal/rariese/scseq_analysis/BRO/time_course/data/Braun_dev_brain/braun_2022_fetal_brain_v2_common_hv2k.h5ad\"\n",
    ")"
   ]
  },
  {
   "cell_type": "code",
   "execution_count": null,
   "metadata": {},
   "outputs": [],
   "source": [
    "\n",
    "\n",
    "adata_harm.write(\n",
    "    \"/hpc/pmc_rios/2.personal/rariese/scseq_analysis/BRO/time_course/data/Braun_dev_brain/braun_2022_fetal_brain_v2_common.h5ad\"\n",
    ")\n",
    "\n",
    "\n",
    "#### Select highvar genes ####\n",
    "adata_harm = sc.read(\n",
    "    \"/hpc/pmc_rios/2.personal/rariese/scseq_analysis/BRO/time_course/data/Braun_dev_brain/braun_2022_fetal_brain_v2_common.h5ad\"\n",
    ")\n",
    "\n",
    "sc.pp.log1p(adata_harm)\n",
    "sc.pp.highly_variable_genes(adata_harm, n_top_genes=2000, batch_key=\"Donor\")\n",
    "\n",
    "adata_harm.write(\n",
    "    \"/hpc/pmc_rios/2.personal/rariese/scseq_analysis/BRO/time_course/data/Braun_dev_brain/braun_2022_fetal_brain_v2_common.h5ad\"\n",
    ")\n",
    "\n",
    "# Subset to hvg\n",
    "adata_harm = adata_harm[:, adata_harm.var.highly_variable].copy()\n",
    "adata_harm.layers[\"counts\"] = sparse.csr_matrix(adata_harm.layers[\"counts\"])\n",
    "adata_harm.write(\n",
    "    \"/hpc/pmc_rios/2.personal/rariese/scseq_analysis/BRO/time_course/data/Braun_dev_brain/braun_2022_fetal_brain_v2_common_hv2k.h5ad\"\n",
    ")\n"
   ]
  },
  {
   "cell_type": "code",
   "execution_count": null,
   "metadata": {},
   "outputs": [],
   "source": []
  }
 ],
 "metadata": {
  "kernelspec": {
   "display_name": "scanpy",
   "language": "python",
   "name": "python3"
  },
  "language_info": {
   "codemirror_mode": {
    "name": "ipython",
    "version": 3
   },
   "file_extension": ".py",
   "mimetype": "text/x-python",
   "name": "python",
   "nbconvert_exporter": "python",
   "pygments_lexer": "ipython3",
   "version": "3.10.13"
  },
  "orig_nbformat": 4
 },
 "nbformat": 4,
 "nbformat_minor": 2
}
